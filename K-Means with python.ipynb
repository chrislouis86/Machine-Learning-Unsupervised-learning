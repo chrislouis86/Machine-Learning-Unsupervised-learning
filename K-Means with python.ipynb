{
 "cells": [
  {
   "cell_type": "code",
   "execution_count": null,
   "id": "d051bb69-c94d-480c-a962-5bf26aba8d52",
   "metadata": {
    "editable": true,
    "slideshow": {
     "slide_type": ""
    },
    "tags": []
   },
   "outputs": [],
   "source": [
    "import matplotlib.pyplot as plt \n",
    "import numpy as np \n",
    "from sklearn.datasets import make_blobs\n",
    "\n"
   ]
  },
  {
   "cell_type": "code",
   "execution_count": null,
   "id": "6582b928-f810-4e4a-86ef-976ef7cf0a4a",
   "metadata": {},
   "outputs": [],
   "source": [
    "X,y = make_blobs(n_samples = 1250,n_features = 2,centers = 3,random_state = 23)\n",
    "\n",
    "fig = plt.figure(0)\n",
    "plt.grid(True)\n",
    "plt.scatter(X[:,0],X[:,1])\n",
    "plt.show()"
   ]
  },
  {
   "cell_type": "code",
   "execution_count": null,
   "id": "d90bb76c-705e-4170-bd5a-6a2610d73d6d",
   "metadata": {},
   "outputs": [],
   "source": [
    "# Initialise the random centeroids \n",
    "\n",
    "# This code creates three clusters for K-means clustering \n",
    "\n",
    "k = 3\n",
    "clusters = {}\n",
    "np.random.seed(23)\n",
    "\n",
    "\n",
    "for idx in range(k):\n",
    "    center = 2*(2*np.random.random((X.shape[1],))-1)\n",
    "    points = []\n",
    "    cluster = {'center' : center, 'points' : []}\n",
    "\n",
    "    clusters[idx] = cluster  \n",
    "    \n",
    "clusters \n",
    "            \n",
    "    "
   ]
  },
  {
   "cell_type": "code",
   "execution_count": null,
   "id": "05d8f62c-fdea-4441-89e7-b914d3b4d9d1",
   "metadata": {},
   "outputs": [],
   "source": [
    "# Plot the random intialise center with data points \n",
    "\n",
    "\n",
    "plt.scatter(X[:,0],X[:,1])\n",
    "plt.grid(True)\n",
    "\n",
    "for i in clusters:\n",
    "    center = clusters[i]['center']\n",
    "    plt.scatter(center[0],center[1],marker = '*',c = 'red')\n",
    "plt.show()    "
   ]
  },
  {
   "cell_type": "code",
   "execution_count": null,
   "id": "7da60574-0427-4b17-adc6-0dfec9bb83f0",
   "metadata": {},
   "outputs": [],
   "source": [
    "# Define Euclidean distance \n",
    "\n",
    "def distance(p1,p2): \n",
    "    return np.sqrt(np.sum((p1--p2)**2))"
   ]
  },
  {
   "cell_type": "code",
   "execution_count": null,
   "id": "535a1773-074d-4ab1-919e-2a88fe1ab2f7",
   "metadata": {},
   "outputs": [],
   "source": [
    "#Create the function to Assign and Update the cluster center\n",
    "\n",
    "#Implementing E step \n",
    "\n",
    "def assign_clusters(X, clusters):\n",
    "    for idx in range(X.shape[0]):\n",
    "        dist = []\n",
    "        \n",
    "        curr_x = X[idx]\n",
    "        \n",
    "        for i in range(k):\n",
    "            dis = distance(curr_x,clusters[i]['center'])\n",
    "            dist.append(dis)\n",
    "        curr_cluster = np.argmin(dist)\n",
    "        clusters[curr_cluster]['points'].append(curr_x)\n",
    "    return clusters\n",
    "        \n",
    "#Implementing the M-Step\n",
    "\n",
    "def update_clusters(X, clusters):\n",
    "    for i in range(k):\n",
    "        points = np.array(clusters[i]['points'])\n",
    "        if points.shape[0] > 0:\n",
    "            new_center = points.mean(axis =0)\n",
    "            clusters[i]['center'] = new_center\n",
    "            \n",
    "            clusters[i]['points'] = []\n",
    "    return clusters\n"
   ]
  },
  {
   "cell_type": "code",
   "execution_count": null,
   "id": "022309d0-12c1-4110-bca2-b1caee385b25",
   "metadata": {},
   "outputs": [],
   "source": [
    "# Create the function to predict the cluster for the datapoints \n",
    "\n",
    "def pred_cluster(X, clusters):\n",
    "    pred = []\n",
    "    for i in range(X.shape[0]):\n",
    "        dist = []\n",
    "        for j in range(k):\n",
    "            dist.append(distance(X[i],clusters[j]['center']))\n",
    "        pred.append(np.argmin(dist))\n",
    "    return pred"
   ]
  },
  {
   "cell_type": "code",
   "execution_count": null,
   "id": "bea84431-c6e3-4e05-8636-b0d7d04d4520",
   "metadata": {},
   "outputs": [],
   "source": [
    "# Assign Update and predict the cluster center\n",
    "\n",
    "clusters = assign_clusters(X,clusters)\n",
    "clusters = update_clusters(X,clusters)\n",
    "pred = pred_cluster(X,clusters)"
   ]
  },
  {
   "cell_type": "code",
   "execution_count": null,
   "id": "8b76df98-0063-4249-9f42-283cddcd5749",
   "metadata": {},
   "outputs": [],
   "source": [
    "# Plot the data points \n",
    "\n",
    "plt.scatter(X[:,0],X[:,1],c = pred)\n",
    "for i in clusters:\n",
    "    center = clusters[i]['center']\n",
    "    plt.scatter(center[0],center[1],marker = '^',c = 'blue')\n",
    "plt.show()"
   ]
  },
  {
   "cell_type": "code",
   "execution_count": null,
   "id": "348ad9c9-db6c-4acb-b569-9c8b93f12c74",
   "metadata": {},
   "outputs": [],
   "source": [
    "# The plot shows data points colored by their predicted clusters. \n",
    "# The red markers represent the updated cluster centers after the E-M steps in the K-means clustering algorithm."
   ]
  },
  {
   "cell_type": "code",
   "execution_count": null,
   "id": "3e6f59ea-690c-4d5e-8479-d1227943a5db",
   "metadata": {},
   "outputs": [],
   "source": []
  }
 ],
 "metadata": {
  "kernelspec": {
   "display_name": "Python 3 (ipykernel)",
   "language": "python",
   "name": "python3"
  },
  "language_info": {
   "codemirror_mode": {
    "name": "ipython",
    "version": 3
   },
   "file_extension": ".py",
   "mimetype": "text/x-python",
   "name": "python",
   "nbconvert_exporter": "python",
   "pygments_lexer": "ipython3",
   "version": "3.9.10"
  }
 },
 "nbformat": 4,
 "nbformat_minor": 5
}
